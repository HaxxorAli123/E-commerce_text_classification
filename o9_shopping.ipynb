{
 "cells": [
  {
   "cell_type": "code",
   "execution_count": 1,
   "metadata": {},
   "outputs": [
    {
     "name": "stdout",
     "output_type": "stream",
     "text": [
      "tensorflow\n"
     ]
    }
   ],
   "source": [
    "# import packages\n",
    "import os \n",
    "os.environ[\"KERAS_BACKEND\"] = \"tensorflow\"\n",
    "import keras\n",
    "print(keras.backend.backend())"
   ]
  },
  {
   "cell_type": "code",
   "execution_count": 26,
   "metadata": {},
   "outputs": [],
   "source": [
    "from keras import layers,losses,metrics,activations,callbacks,initializers,regularizers,optimizers\n",
    "import numpy as np \n",
    "import pandas as pd\n",
    "import matplotlib.pyplot as plt\n",
    "from wordcloud import WordCloud, STOPWORDS\n",
    "import sklearn, datetime, pickle\n",
    "import tensorflow as tf"
   ]
  },
  {
   "cell_type": "code",
   "execution_count": 27,
   "metadata": {},
   "outputs": [
    {
     "name": "stdout",
     "output_type": "stream",
     "text": [
      "    category                                        description\n",
      "0  Household  Paper Plane Design Framed Wall Hanging Motivat...\n",
      "1  Household  SAF 'Floral' Framed Painting (Wood, 30 inch x ...\n",
      "2  Household  SAF 'UV Textured Modern Art Print Framed' Pain...\n",
      "3  Household  SAF Flower Print Framed Painting (Synthetic, 1...\n",
      "4  Household  Incredible Gifts India Wooden Happy Birthday U...\n",
      "(50425, 2)\n",
      "<class 'pandas.core.frame.DataFrame'>\n",
      "RangeIndex: 50425 entries, 0 to 50424\n",
      "Data columns (total 2 columns):\n",
      " #   Column       Non-Null Count  Dtype \n",
      "---  ------       --------------  ----- \n",
      " 0   category     50425 non-null  object\n",
      " 1   description  50424 non-null  object\n",
      "dtypes: object(2)\n",
      "memory usage: 788.0+ KB\n",
      "None\n"
     ]
    }
   ],
   "source": [
    "CSV_PATH = os.path.join(os.getcwd(),'dataset','ecommerceDataset.csv')\n",
    "df = pd.read_csv(CSV_PATH,names = ['category','description'],header=None)\n",
    "print(df.head())\n",
    "print(df.shape)\n",
    "print(df.info())"
   ]
  },
  {
   "cell_type": "code",
   "execution_count": 28,
   "metadata": {},
   "outputs": [
    {
     "data": {
      "text/plain": [
       "category\n",
       "Household                 19313\n",
       "Books                     11820\n",
       "Electronics               10621\n",
       "Clothing & Accessories     8671\n",
       "Name: count, dtype: int64"
      ]
     },
     "execution_count": 28,
     "metadata": {},
     "output_type": "execute_result"
    }
   ],
   "source": [
    "df.category.value_counts()"
   ]
  },
  {
   "cell_type": "code",
   "execution_count": 29,
   "metadata": {},
   "outputs": [
    {
     "name": "stdout",
     "output_type": "stream",
     "text": [
      "Total missing values in columns:  \n",
      " category       0\n",
      "description    1\n",
      "dtype: int64\n",
      "Duplicates:  22622\n"
     ]
    }
   ],
   "source": [
    "print(\"Total missing values in columns: \",\"\\n\",df.isna().sum())\n",
    "print(\"Duplicates: \",df.duplicated().sum())"
   ]
  },
  {
   "cell_type": "code",
   "execution_count": 30,
   "metadata": {},
   "outputs": [
    {
     "name": "stdout",
     "output_type": "stream",
     "text": [
      "                     category description\n",
      "39330  Clothing & Accessories         NaN\n"
     ]
    }
   ],
   "source": [
    "#print out missing values in description column\n",
    "missing_values = df[df['description'].isna()]\n",
    "print(missing_values)"
   ]
  },
  {
   "cell_type": "code",
   "execution_count": 31,
   "metadata": {},
   "outputs": [
    {
     "data": {
      "text/plain": [
       "(50424, 2)"
      ]
     },
     "execution_count": 31,
     "metadata": {},
     "output_type": "execute_result"
    }
   ],
   "source": [
    "#dropping the one single missing value row\n",
    "df.dropna(inplace=True)\n",
    "df.shape"
   ]
  },
  {
   "cell_type": "code",
   "execution_count": 32,
   "metadata": {},
   "outputs": [
    {
     "name": "stdout",
     "output_type": "stream",
     "text": [
      "<class 'pandas.core.frame.DataFrame'>\n",
      "Index: 50424 entries, 0 to 50424\n",
      "Data columns (total 2 columns):\n",
      " #   Column       Non-Null Count  Dtype \n",
      "---  ------       --------------  ----- \n",
      " 0   category     50424 non-null  object\n",
      " 1   description  50424 non-null  object\n",
      "dtypes: object(2)\n",
      "memory usage: 1.2+ MB\n",
      "None\n"
     ]
    }
   ],
   "source": [
    "print(df.info())"
   ]
  },
  {
   "cell_type": "code",
   "execution_count": 33,
   "metadata": {},
   "outputs": [
    {
     "name": "stderr",
     "output_type": "stream",
     "text": [
      "C:\\Users\\User\\AppData\\Local\\Temp\\ipykernel_20140\\818487663.py:2: FutureWarning: A value is trying to be set on a copy of a DataFrame or Series through chained assignment using an inplace method.\n",
      "The behavior will change in pandas 3.0. This inplace method will never work because the intermediate object on which we are setting values always behaves as a copy.\n",
      "\n",
      "For example, when doing 'df[col].method(value, inplace=True)', try using 'df.method({col: value}, inplace=True)' or df[col] = df[col].method(value) instead, to perform the operation inplace on the original object.\n",
      "\n",
      "\n",
      "  df.category.replace(\"Clothing & Accessories\", \"Clothing_Accessories\", inplace=True)\n"
     ]
    }
   ],
   "source": [
    "#replacing name for clothing n accessories for standardization naming \n",
    "df.category.replace(\"Clothing & Accessories\", \"Clothing_Accessories\", inplace=True)"
   ]
  },
  {
   "cell_type": "code",
   "execution_count": 34,
   "metadata": {},
   "outputs": [
    {
     "data": {
      "text/plain": [
       "category\n",
       "Household               19313\n",
       "Books                   11820\n",
       "Electronics             10621\n",
       "Clothing_Accessories     8670\n",
       "Name: count, dtype: int64"
      ]
     },
     "execution_count": 34,
     "metadata": {},
     "output_type": "execute_result"
    }
   ],
   "source": [
    "df.category.value_counts()"
   ]
  },
  {
   "cell_type": "code",
   "execution_count": 35,
   "metadata": {},
   "outputs": [
    {
     "data": {
      "text/plain": [
       "category       object\n",
       "description    object\n",
       "dtype: object"
      ]
     },
     "execution_count": 35,
     "metadata": {},
     "output_type": "execute_result"
    }
   ],
   "source": [
    "df.dtypes"
   ]
  },
  {
   "cell_type": "code",
   "execution_count": 36,
   "metadata": {},
   "outputs": [
    {
     "name": "stdout",
     "output_type": "stream",
     "text": [
      "          category                                        description\n",
      "0        Household  Paper Plane Design Framed Wall Hanging Motivat...\n",
      "1        Household  SAF 'Floral' Framed Painting (Wood, 30 inch x ...\n",
      "2        Household  SAF 'UV Textured Modern Art Print Framed' Pain...\n",
      "3        Household  SAF Flower Print Framed Painting (Synthetic, 1...\n",
      "4        Household  Incredible Gifts India Wooden Happy Birthday U...\n",
      "...            ...                                                ...\n",
      "50402  Electronics  Micromax Bharat 5 Plus Zero impact on visual d...\n",
      "50403  Electronics  Microsoft Lumia 550 8GB 4G Black Microsoft lum...\n",
      "50407  Electronics  Microsoft Lumia 535 (Black, 8GB) Colour:Black ...\n",
      "50408  Electronics  Karbonn Titanium Wind W4 (White) Karbonn Titan...\n",
      "50410  Electronics  Nokia Lumia 530 (Dual SIM, Grey) Colour:Grey  ...\n",
      "\n",
      "[27802 rows x 2 columns]\n"
     ]
    }
   ],
   "source": [
    "df = df.drop_duplicates()\n",
    "print(df)"
   ]
  },
  {
   "cell_type": "code",
   "execution_count": 37,
   "metadata": {},
   "outputs": [
    {
     "name": "stdout",
     "output_type": "stream",
     "text": [
      "0        paper plane design framed wall hanging motivat...\n",
      "1        saf floral framed painting wood  inch x  inch ...\n",
      "2        saf uv textured modern art print framed painti...\n",
      "3        saf flower print framed painting synthetic  in...\n",
      "4        incredible gifts india wooden happy birthday u...\n",
      "                               ...                        \n",
      "50402    micromax bharat  plus zero impact on visual di...\n",
      "50403    microsoft lumia  gb g black microsoft lumia  e...\n",
      "50407    microsoft lumia  black gb colourblack   produc...\n",
      "50408    karbonn titanium wind w white karbonn titanium...\n",
      "50410    nokia lumia  dual sim grey colourgrey   produc...\n",
      "Name: description, Length: 27802, dtype: object\n"
     ]
    }
   ],
   "source": [
    "import string\n",
    "df['description'] = df['description'].str.replace(f\"[{string.punctuation}]\",\"\",regex=True)\n",
    "df['description'] = df['description'].str.lower()\n",
    "df['description'] = df['description'].str.replace(r\"\\d+\",'',regex=True)\n",
    "print(df['description'])"
   ]
  },
  {
   "cell_type": "code",
   "execution_count": 38,
   "metadata": {},
   "outputs": [],
   "source": [
    "#Viewing frequency of category columns\n",
    "def plotting(dataframe, col_name):\n",
    "    counts = dataframe[col_name].value_counts()\n",
    "    plt.figure(figsize=(10, 6))\n",
    "    plt.bar(counts.index.astype(str), counts.values, color='skyblue')\n",
    "    plt.title(f\"Countplot of {col_name}\")\n",
    "    plt.xlabel(col_name)\n",
    "    plt.ylabel(\"Frequency\")\n",
    "    plt.xticks(rotation=45, ha=\"right\")\n",
    "    plt.show()"
   ]
  },
  {
   "cell_type": "code",
   "execution_count": 39,
   "metadata": {},
   "outputs": [
    {
     "data": {
      "image/png": "[encoded data removed]",
      "text/plain": [
       "<Figure size 1000x600 with 1 Axes>"
      ]
     },
     "metadata": {},
     "output_type": "display_data"
    }
   ],
   "source": [
    "plotting(df,'category')"
   ]
  },
  {
   "cell_type": "code",
   "execution_count": 40,
   "metadata": {},
   "outputs": [],
   "source": [
    "#Viewing frequency used words of description columns\n",
    "def wordcloud_vis(df, col_name):\n",
    "    \n",
    "    plt.figure(figsize=(20, 20)) \n",
    "    wc = WordCloud(max_words=1500, width=1300, height=2000, stopwords=STOPWORDS).generate(' '.join(df[col_name]))\n",
    "    plt.imshow(wc, interpolation='bilinear')\n",
    "    plt.show()"
   ]
  },
  {
   "cell_type": "code",
   "execution_count": 41,
   "metadata": {},
   "outputs": [],
   "source": [
    "#visualize frequent used word in wordcloud for description column\n",
    "# wordcloud_vis(df,'description')"
   ]
  },
  {
   "cell_type": "code",
   "execution_count": 42,
   "metadata": {},
   "outputs": [
    {
     "name": "stdout",
     "output_type": "stream",
     "text": [
      "[3 3 3 3 3]\n"
     ]
    }
   ],
   "source": [
    "#preprocessing\n",
    "import sklearn.preprocessing\n",
    "from sklearn import model_selection\n",
    "\n",
    "features = df['description'].values\n",
    "label = df['category'].values\n",
    "# uncomment to confirm values\n",
    "# print(features)\n",
    "# print(label)\n",
    "\n",
    "# Performing label encoding\n",
    "label_encoder =  sklearn.preprocessing.LabelEncoder()\n",
    "label_encoded = label_encoder.fit_transform(label)\n",
    "print(label_encoded[:5])\n",
    "#checking first 5 categories that is changed from string to numbers\n"
   ]
  },
  {
   "cell_type": "code",
   "execution_count": 43,
   "metadata": {},
   "outputs": [
    {
     "name": "stdout",
     "output_type": "stream",
     "text": [
      "['Books' 'Clothing_Accessories' 'Electronics' 'Household']\n"
     ]
    }
   ],
   "source": [
    "#perform inverse transform with the encoder to convert back to original values\n",
    "sample_categories = [0,1,2,3]\n",
    "print(label_encoder.inverse_transform(sample_categories))"
   ]
  },
  {
   "cell_type": "code",
   "execution_count": 44,
   "metadata": {},
   "outputs": [],
   "source": [
    "# Data Splitting\n",
    "SEED = 42\n",
    "x_train,x_split,y_train,y_split = model_selection.train_test_split(features,label_encoded,train_size=0.7\n",
    "                                                                 ,random_state = SEED)\n",
    "x_val,x_test,y_val,y_test = model_selection.train_test_split(x_split,y_split,train_size = 0.5, \n",
    "                                                             random_state = SEED)"
   ]
  },
  {
   "cell_type": "code",
   "execution_count": 45,
   "metadata": {},
   "outputs": [],
   "source": [
    "#NLP\n",
    "# (A) Tokenization\n",
    "tokenizer = layers.TextVectorization(max_tokens=10000,output_sequence_length=200)\n",
    "tokenizer.adapt(x_train)"
   ]
  },
  {
   "cell_type": "code",
   "execution_count": 46,
   "metadata": {},
   "outputs": [
    {
     "name": "stdout",
     "output_type": "stream",
     "text": [
      "['turning point review praise for danielle steel  steel is one of the best los angeles times  few modern writers convey the pathos of family and material life with such heartfelt empathy the philadelphia inquirer  steel pulls out all the emotional stops she delivers publishers weekly  what counts for the reader is the ring of authenticity san francisco chronicle about the author danielle steel has been hailed as one of the worlds most popular authors with over  million copies of her novels sold her many international bestsellers include beauchamp hall in his fathers footsteps the good fight the cast accidental heroes fall from grace  and other highly acclaimed novels she is also the author of his bright light  the story of her son nick trainas life and death a gift of hope  a memoir of her work with the homeless pure joy  about the dogs she and her family have loved and the childrens books pretty minnie in paris and pretty minnie in hollywood'\n",
      " 'imported pcs red soft earthworm fishing bait worm lures crankbaits hooks b soft creat lifelike swimming actions in water smooth and rapid diving actionbright colors to attract big fish easily attached to the fish hook']\n",
      "tf.Tensor(\n",
      "[[2195  883  159 4349    7    1   74   74   10   46    4    2   67 2844\n",
      "  2281  199  766  292 1880 5543    2    1    4  310    3   70   91    9\n",
      "   198    1 8971    2 8850    1   74 4468   84   25    2 2427 4111  220\n",
      "  1138 2893 2399  163 9711    7    2  716   10    2  684    4 6736 2597\n",
      "  4248 5009   40    2   51    1   74   24   99    1   19   46    4    2\n",
      "  1260   72  823 1075    9  129 1531 2803    4  147 1845 1370  147  174\n",
      "   362 3205  633    1 3192    8   58 5876    1    2  134 4440    2 2151\n",
      "  4570 5512 2148   16 3882    3   65  329 3021 1845  220   10   44    2\n",
      "    51    4   58  894   66    2  430    4  147 2173 9201    1   91    3\n",
      "  2190    6  254    4 1998    6 2450    4  147  124    9    2    1  600\n",
      "  2451   40    2 3949  220    3  147  310   39 1155    3    2 2904  114\n",
      "  2176    1    8 4354    3 2176    1    8 6229    0    0    0    0    0\n",
      "     0    0    0    0    0    0    0    0    0    0    0    0    0    0\n",
      "     0    0    0    0    0    0    0    0    0    0    0    0    0    0\n",
      "     0    0    0    0]\n",
      " [1372  256  244   98    1 3295    1    1    1    1 1217  831   98    1\n",
      "  8895 3117 8724    8   78  350    3 3547 5342    1  315    5 6442  548\n",
      "  2472  139 1613    5    2 2472  899    0    0    0    0    0    0    0\n",
      "     0    0    0    0    0    0    0    0    0    0    0    0    0    0\n",
      "     0    0    0    0    0    0    0    0    0    0    0    0    0    0\n",
      "     0    0    0    0    0    0    0    0    0    0    0    0    0    0\n",
      "     0    0    0    0    0    0    0    0    0    0    0    0    0    0\n",
      "     0    0    0    0    0    0    0    0    0    0    0    0    0    0\n",
      "     0    0    0    0    0    0    0    0    0    0    0    0    0    0\n",
      "     0    0    0    0    0    0    0    0    0    0    0    0    0    0\n",
      "     0    0    0    0    0    0    0    0    0    0    0    0    0    0\n",
      "     0    0    0    0    0    0    0    0    0    0    0    0    0    0\n",
      "     0    0    0    0    0    0    0    0    0    0    0    0    0    0\n",
      "     0    0    0    0    0    0    0    0    0    0    0    0    0    0\n",
      "     0    0    0    0]], shape=(2, 200), dtype=int64)\n"
     ]
    }
   ],
   "source": [
    "# [Optional] test the tokenizer\n",
    "sample_text = x_train[:2]\n",
    "sample_tokens = tokenizer(sample_text)\n",
    "print(sample_text)\n",
    "print(sample_tokens)"
   ]
  },
  {
   "cell_type": "code",
   "execution_count": 47,
   "metadata": {},
   "outputs": [],
   "source": [
    "# (B) Embedding \n",
    "embedding = layers.Embedding(10000,64)"
   ]
  },
  {
   "cell_type": "code",
   "execution_count": 48,
   "metadata": {},
   "outputs": [],
   "source": [
    "# using bi directional lstm for ambiguity of data\n",
    "model = keras.Sequential()\n",
    "# (A) NLP layers\n",
    "model.add(tokenizer)\n",
    "model.add(embedding)\n",
    "# (B) RNN (Wrap up with bi directional lstm layer)\n",
    "model.add(layers.Bidirectional(layers.LSTM(32,return_sequences=False)))\n",
    "# (C) Output layer\n",
    "model.add(layers.Dense(len(df['category'].unique()),activation=\"softmax\"))"
   ]
  },
  {
   "cell_type": "code",
   "execution_count": 57,
   "metadata": {},
   "outputs": [],
   "source": [
    "log_dir = \"logs\" + datetime.datetime.now().strftime(\"%Y%m%d-%H%M%S\")\n",
    "tensorboard_callback = tf.keras.callbacks.TensorBoard(log_dir=log_dir, histogram_freq=1)"
   ]
  },
  {
   "cell_type": "code",
   "execution_count": 58,
   "metadata": {},
   "outputs": [],
   "source": [
    "# Model compile \n",
    "model.compile(optimizer='adam',loss='sparse_categorical_crossentropy',metrics=['accuracy'])"
   ]
  },
  {
   "cell_type": "code",
   "execution_count": 59,
   "metadata": {},
   "outputs": [
    {
     "name": "stdout",
     "output_type": "stream",
     "text": [
      "Epoch 1/5\n",
      "\u001b[1m609/609\u001b[0m \u001b[32m━━━━━━━━━━━━━━━━━━━━\u001b[0m\u001b[37m\u001b[0m \u001b[1m56s\u001b[0m 84ms/step - accuracy: 0.9936 - loss: 0.0233 - val_accuracy: 0.9499 - val_loss: 0.2281\n",
      "Epoch 2/5\n",
      "\u001b[1m609/609\u001b[0m \u001b[32m━━━━━━━━━━━━━━━━━━━━\u001b[0m\u001b[37m\u001b[0m \u001b[1m53s\u001b[0m 87ms/step - accuracy: 0.9966 - loss: 0.0140 - val_accuracy: 0.9506 - val_loss: 0.2253\n",
      "Epoch 3/5\n",
      "\u001b[1m609/609\u001b[0m \u001b[32m━━━━━━━━━━━━━━━━━━━━\u001b[0m\u001b[37m\u001b[0m \u001b[1m52s\u001b[0m 85ms/step - accuracy: 0.9979 - loss: 0.0082 - val_accuracy: 0.9506 - val_loss: 0.2400\n",
      "Epoch 4/5\n",
      "\u001b[1m609/609\u001b[0m \u001b[32m━━━━━━━━━━━━━━━━━━━━\u001b[0m\u001b[37m\u001b[0m \u001b[1m52s\u001b[0m 86ms/step - accuracy: 0.9974 - loss: 0.0080 - val_accuracy: 0.9470 - val_loss: 0.2648\n",
      "Epoch 5/5\n",
      "\u001b[1m609/609\u001b[0m \u001b[32m━━━━━━━━━━━━━━━━━━━━\u001b[0m\u001b[37m\u001b[0m \u001b[1m54s\u001b[0m 88ms/step - accuracy: 0.9980 - loss: 0.0057 - val_accuracy: 0.9434 - val_loss: 0.3329\n"
     ]
    }
   ],
   "source": [
    "# Model Training\n",
    "history = model.fit(x_train,y_train,validation_data=(x_val,y_val),batch_size=32,epochs=5,callbacks=[tensorboard_callback])"
   ]
  },
  {
   "cell_type": "code",
   "execution_count": 60,
   "metadata": {},
   "outputs": [
    {
     "data": {
      "image/png": "[encoded data removed]",
      "text/plain": [
       "<Figure size 1000x1000 with 1 Axes>"
      ]
     },
     "metadata": {},
     "output_type": "display_data"
    }
   ],
   "source": [
    "# Check training result\n",
    "import matplotlib.pyplot as plt\n",
    "\n",
    "plt.figure(figsize=(10,10))\n",
    "plt.plot(history.epoch,history.history['loss'])\n",
    "plt.plot(history.epoch,history.history['val_loss'])\n",
    "plt.legend(['Training Loss', 'Validation Loss'])\n",
    "plt.title('Loss graph')\n",
    "plt.show()"
   ]
  },
  {
   "cell_type": "code",
   "execution_count": 61,
   "metadata": {},
   "outputs": [
    {
     "name": "stdout",
     "output_type": "stream",
     "text": [
      "\u001b[1m131/131\u001b[0m \u001b[32m━━━━━━━━━━━━━━━━━━━━\u001b[0m\u001b[37m\u001b[0m \u001b[1m3s\u001b[0m 24ms/step - accuracy: 0.9441 - loss: 0.3621\n",
      "[0.3700719177722931, 0.9424598217010498]\n"
     ]
    }
   ],
   "source": [
    "# Evaluate the model with test data\n",
    "print(model.evaluate(x_test,y_test))"
   ]
  },
  {
   "cell_type": "code",
   "execution_count": 62,
   "metadata": {},
   "outputs": [
    {
     "name": "stdout",
     "output_type": "stream",
     "text": [
      "\u001b[1m131/131\u001b[0m \u001b[32m━━━━━━━━━━━━━━━━━━━━\u001b[0m\u001b[37m\u001b[0m \u001b[1m4s\u001b[0m 29ms/step\n",
      "[2 2 3 ... 3 1 0]\n"
     ]
    }
   ],
   "source": [
    "y_pred = np.argmax(model.predict(x_test),axis=1)\n",
    "print(y_pred)"
   ]
  },
  {
   "cell_type": "code",
   "execution_count": 63,
   "metadata": {},
   "outputs": [
    {
     "name": "stdout",
     "output_type": "stream",
     "text": [
      "Accuracy:94.25\n",
      "F1-Score: 0.94\n"
     ]
    }
   ],
   "source": [
    "from sklearn.metrics import accuracy_score,f1_score\n",
    "accuracy = accuracy_score(y_test,y_pred)\n",
    "f1 = f1_score(y_test,y_pred,average='weighted')\n",
    "accuracy_percentage = accuracy * 100\n",
    "print(f\"Accuracy:{accuracy_percentage:.2f}\")\n",
    "print(f\"F1-Score: {f1:.2f}\")"
   ]
  },
  {
   "cell_type": "code",
   "execution_count": 64,
   "metadata": {},
   "outputs": [],
   "source": [
    "# Save the label encoder via pickle\n",
    "with open('shop_encoder.pkl','wb') as f:\n",
    "    pickle.dump(label_encoder,f)"
   ]
  },
  {
   "cell_type": "code",
   "execution_count": 66,
   "metadata": {},
   "outputs": [
    {
     "name": "stderr",
     "output_type": "stream",
     "text": [
      "WARNING:absl:You are saving your model as an HDF5 file via `model.save()` or `keras.saving.save_model(model)`. This file format is considered legacy. We recommend using instead the native Keras format, e.g. `model.save('my_model.keras')` or `keras.saving.save_model(model, 'my_model.keras')`. \n"
     ]
    }
   ],
   "source": [
    "import json \n",
    "os.makedirs(\"saved_models\",exist_ok=True)\n",
    "model.save(\"saved_models/models.h5\")\n",
    "\n",
    "vocab = tokenizer.get_vocabulary()\n",
    "vocab_dict = {i: word for i, word in enumerate(vocab)}\n",
    "with open (\"saved_models/tokenizer.json\",\"w\") as f:\n",
    "    json.dump(vocab_dict,f)"
   ]
  }
 ],
 "metadata": {
  "kernelspec": {
   "display_name": "ypai10",
   "language": "python",
   "name": "python3"
  },
  "language_info": {
   "codemirror_mode": {
    "name": "ipython",
    "version": 3
   },
   "file_extension": ".py",
   "mimetype": "text/x-python",
   "name": "python",
   "nbconvert_exporter": "python",
   "pygments_lexer": "ipython3",
   "version": "3.12.7"
  }
 },
 "nbformat": 4,
 "nbformat_minor": 2
}
